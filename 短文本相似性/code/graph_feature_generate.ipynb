{
 "cells": [
  {
   "cell_type": "code",
   "execution_count": 2,
   "metadata": {
    "colab": {
     "base_uri": "https://localhost:8080/",
     "height": 120
    },
    "colab_type": "code",
    "executionInfo": {
     "elapsed": 25586,
     "status": "ok",
     "timestamp": 1556943395287,
     "user": {
      "displayName": "Racle He",
      "photoUrl": "https://lh5.googleusercontent.com/-duAtIP62aCM/AAAAAAAAAAI/AAAAAAAAABU/2UGgZTjRHOg/s64/photo.jpg",
      "userId": "10673173760458122172"
     },
     "user_tz": -480
    },
    "id": "CHnGj1zmdGV1",
    "outputId": "d085b5f7-eae6-4916-a76c-ace1b147eee3"
   },
   "outputs": [
    {
     "name": "stdout",
     "output_type": "stream",
     "text": [
      "Go to this URL in a browser: https://accounts.google.com/o/oauth2/auth?client_id=947318989803-6bn6qk8qdgf4n4g3pfee6491hc0brc4i.apps.googleusercontent.com&redirect_uri=urn%3Aietf%3Awg%3Aoauth%3A2.0%3Aoob&scope=email%20https%3A%2F%2Fwww.googleapis.com%2Fauth%2Fdocs.test%20https%3A%2F%2Fwww.googleapis.com%2Fauth%2Fdrive%20https%3A%2F%2Fwww.googleapis.com%2Fauth%2Fdrive.photos.readonly%20https%3A%2F%2Fwww.googleapis.com%2Fauth%2Fpeopleapi.readonly&response_type=code\n",
      "\n",
      "Enter your authorization code:\n",
      "··········\n",
      "Mounted at /content/gdrive\n"
     ]
    }
   ],
   "source": [
    "%load_ext autoreload\n",
    "%autoreload 2\n",
    "\n",
    "from google.colab import drive\n",
    "drive.mount('/content/gdrive')"
   ]
  },
  {
   "cell_type": "code",
   "execution_count": 3,
   "metadata": {
    "colab": {
     "base_uri": "https://localhost:8080/",
     "height": 33
    },
    "colab_type": "code",
    "executionInfo": {
     "elapsed": 1404,
     "status": "ok",
     "timestamp": 1556943397350,
     "user": {
      "displayName": "Racle He",
      "photoUrl": "https://lh5.googleusercontent.com/-duAtIP62aCM/AAAAAAAAAAI/AAAAAAAAABU/2UGgZTjRHOg/s64/photo.jpg",
      "userId": "10673173760458122172"
     },
     "user_tz": -480
    },
    "id": "eB1_H8J2dStT",
    "outputId": "35a7889b-2a1c-4a7e-b348-2b1f5570ad2d"
   },
   "outputs": [
    {
     "name": "stdout",
     "output_type": "stream",
     "text": [
      "/content/gdrive/My Drive/Colab Notebooks/NLP_textsimilarity/data\n"
     ]
    }
   ],
   "source": [
    "% cd /content/gdrive/My\\ Drive/Colab\\ Notebooks/NLP_textsimilarity/data/"
   ]
  },
  {
   "cell_type": "code",
   "execution_count": 0,
   "metadata": {
    "colab": {},
    "colab_type": "code",
    "id": "ZwdddAvkd_4e"
   },
   "outputs": [],
   "source": [
    "from __future__ import print_function\n",
    "\n",
    "import time\n",
    "import numpy as np\n",
    "import pandas as pd\n",
    "from collections import deque"
   ]
  },
  {
   "cell_type": "code",
   "execution_count": 0,
   "metadata": {
    "colab": {},
    "colab_type": "code",
    "id": "7Le00cmVeYCu"
   },
   "outputs": [],
   "source": [
    "train = pd.read_csv('./train.csv')\n",
    "test = pd.read_csv('./test.csv')"
   ]
  },
  {
   "cell_type": "markdown",
   "metadata": {
    "colab_type": "text",
    "id": "U3PS0VvgevLL"
   },
   "source": [
    "求q1,q2的图上距离（最短路径）\n",
    "\n",
    "\n",
    "\n",
    "\n",
    "\n",
    "1.   step1 : 利用训练数据生成无向图，求各个连通分量\n",
    "2.   step2 : 求q1,q2的距离d\n",
    "\n",
    "     （1）如果q1,q2在一个连通图上：求q1,q2的距离d \n",
    "     （2）如果q1,q2不在一个连通图上，令d(q1,q2) = 1000\n"
   ]
  },
  {
   "cell_type": "code",
   "execution_count": 6,
   "metadata": {
    "colab": {
     "base_uri": "https://localhost:8080/",
     "height": 83
    },
    "colab_type": "code",
    "executionInfo": {
     "elapsed": 1503407,
     "status": "ok",
     "timestamp": 1556944915385,
     "user": {
      "displayName": "Racle He",
      "photoUrl": "https://lh5.googleusercontent.com/-duAtIP62aCM/AAAAAAAAAAI/AAAAAAAAABU/2UGgZTjRHOg/s64/photo.jpg",
      "userId": "10673173760458122172"
     },
     "user_tz": -480
    },
    "id": "vrQV-f-Fem22",
    "outputId": "772eb882-7e7d-441c-867d-1dc0b3ea8bef"
   },
   "outputs": [
    {
     "name": "stdout",
     "output_type": "stream",
     "text": [
      "Generating Graph...\n",
      "Graph generated. Time used 16.8 mins\n",
      "Searching Connected Components...\n",
      "Search finished. Time used 8.2 mins\n"
     ]
    }
   ],
   "source": [
    "def gen_graph(train):\n",
    "    \"\"\"\n",
    "    把输入数据转化为以字典表示的无向图\n",
    "    \"\"\" \n",
    "    data = train[train['label']==1][['q1','q2']]\n",
    "    graph = {}\n",
    "    for i in range(len(data)):\n",
    "        if data.iloc[i,0] not in graph.keys():\n",
    "            graph[data.iloc[i,0]] = set([data.iloc[i,1]])\n",
    "        else:\n",
    "            graph[data.iloc[i,0]].add(data.iloc[i,1])\n",
    "    \n",
    "        if data.iloc[i,1] not in graph.keys():\n",
    "            graph[data.iloc[i,1]] = set([data.iloc[i,0]])\n",
    "        else:\n",
    "            graph[data.iloc[i,1]].add(data.iloc[i,0])\n",
    "    \n",
    "    return graph\n",
    "\n",
    "\n",
    "def bfs_visited(ugraph, start_node):\n",
    "    \"\"\"\n",
    "    输入无向图ugraph和一个节点start_node\n",
    "    返回从这个节点出发，通过广度优先搜索访问的所有节点的集合\n",
    "    \"\"\"\n",
    "    # initialize Q to be an empty queue\n",
    "    que = deque()\n",
    "    # initialize visited\n",
    "    visited = [start_node]\n",
    "    # enqueue(que, start_node)\n",
    "    que.append(start_node)\n",
    "    while len(que) > 0:\n",
    "        current_node = que.popleft()\n",
    "        neighbours = ugraph[current_node]\n",
    "        for nei in neighbours:\n",
    "            if nei not in visited:\n",
    "                visited.append(nei)\n",
    "                que.append(nei) \n",
    "    return set(visited)\n",
    "\n",
    "\n",
    "def cc_visited(ugraph):\n",
    "    \"\"\"\n",
    "    输入无向图ugraph\n",
    "    返回一个list，list的元素是每个连通分量的节点构成的集合\n",
    "    \"\"\"\n",
    "    remaining_nodes = list(ugraph.keys())\n",
    "    connected_components = []\n",
    "    while len(remaining_nodes) > 0 :\n",
    "        # choose the first element in remaining_nodes to be the start_node\n",
    "        start_node = remaining_nodes[0]\n",
    "        # use bfs_visited() to get the connected component containing start_node\n",
    "        con_component = bfs_visited(ugraph, start_node)\n",
    "        # update connected_components\n",
    "        connected_components.append(con_component)\n",
    "        # update remaining_nodes\n",
    "        remaining_nodes = list(set(remaining_nodes) - con_component)\n",
    "    return connected_components\n",
    "\n",
    "\n",
    "\n",
    "## 先生成图\n",
    "print('Generating Graph...')\n",
    "start = time.time()\n",
    "train_graph = gen_graph(train)\n",
    "end = time.time()\n",
    "print('Graph generated. Time used {:0.1f} mins'.format((end-start)/60))\n",
    "\n",
    "## 寻找各连通分项（大概7分钟）\n",
    "print('Searching Connected Components...')\n",
    "start = time.time()\n",
    "connected_components = cc_visited(train_graph)\n",
    "end = time.time()\n",
    "print('Search finished. Time used {:0.1f} mins'.format((end-start)/60))"
   ]
  },
  {
   "cell_type": "code",
   "execution_count": 0,
   "metadata": {
    "colab": {},
    "colab_type": "code",
    "id": "EkkfOxRCVYPu"
   },
   "outputs": [],
   "source": [
    "import pickle\n",
    "\n",
    "with open('./Cache/train_graph.pickle', 'wb') as f:\n",
    "    pickle.dump(train_graph, f)\n",
    "    \n",
    "with open('./Cache/connected_components.pickle', 'wb') as f:\n",
    "    pickle.dump(connected_components, f)"
   ]
  },
  {
   "cell_type": "markdown",
   "metadata": {
    "colab_type": "text",
    "id": "WcHyVkHL3lWK"
   },
   "source": [
    "现在有了\n",
    "\n",
    "*   ugraph：train_graph， dict\n",
    "*   各连通分项：connected_components，list\n",
    "\n"
   ]
  },
  {
   "cell_type": "code",
   "execution_count": 0,
   "metadata": {
    "colab": {},
    "colab_type": "code",
    "id": "IqFXTWPo01E5"
   },
   "outputs": [],
   "source": [
    "def Dijkstra(ugraph, connected_component, start_node):\n",
    "    '''\n",
    "    返回start_node到connected_component所有节点的最短距离\n",
    "    '''\n",
    "    # 初始化\n",
    "    minv = start_node\n",
    "    visited = set()\n",
    "    \n",
    "    # 源顶点到其余各顶点的初始路程\n",
    "    dist = dict([(node,np.float('inf')) for node in connected_component])\n",
    "    dist[minv] = 0\n",
    "    \n",
    "    # 遍历集合V中与A直接相邻的顶点，找出当前与A距离最短的顶点\n",
    "    while len(visited) < len(connected_component):\n",
    "        visited.add(minv)\n",
    "        # 确定当期顶点的距离\n",
    "        for v in ugraph[minv]:\n",
    "            if dist[minv] + 1 < dist[v]:   # 如果从当前点扩展到某一点的距离小与已知最短距离 \n",
    "                dist[v] = dist[minv] + 1   # 对已知距离进行更新\n",
    "        \n",
    "        # 从剩下的未确定点中选择最小距离点作为新的扩散点\n",
    "        new = np.float('inf')                                      \n",
    "        for w in connected_component - visited:   \n",
    "            if dist[w] < new: \n",
    "                new = dist[w]\n",
    "                minv = w  \n",
    "    return dist\n",
    "\n",
    "\n",
    "def get_graph_distance(data, train_graph, connected_components, training_data=True):\n",
    "    '''\n",
    "    1. 如果q1,q2在一个连通图上：返回q1,q2的距离d\n",
    "    2. 如果q1,q2不在一个连通图上: 令d(q1, q2) = 1000\n",
    "    '''\n",
    "    n = data.shape[0]\n",
    "    \n",
    "    # 初始化\n",
    "    record_distance = {}  #用来记录已经计算过的距离\n",
    "    result_distance = [1000 for i in range(n)]\n",
    "    \n",
    "    for i in range(n):\n",
    "        q1 = data.loc[i,'q1']\n",
    "        q2 = data.loc[i,'q2']\n",
    "\n",
    "        # 如果是训练数据的相似问题，则dist=1\n",
    "        if training_data and data.loc[i,'label'] == 1:\n",
    "            result_distance[i] = 1\n",
    "        \n",
    "        # 如果已经计算过，直接取出计算过的值\n",
    "        elif (q1,q2) in record_distance.keys():\n",
    "            result_distance[i] = record_distance[(q1,q2)]\n",
    "\n",
    "        elif (q2,q1) in record_distance.keys():\n",
    "            result_distance[i] = record_distance[(q2,q1)]\n",
    "\n",
    "        else:       \n",
    "            # check whether q1,q2 are in one connected_componets\n",
    "            for cc in connected_components:\n",
    "                if (q1 in cc) and (q2 in cc):\n",
    "                    # 连通图cc,q1到其它节点的距离\n",
    "                    q1_dist = Dijkstra(train_graph, cc, q1)\n",
    "                    # 把计算过的距离保存起来\n",
    "                    new_dict = dict([((q1,node),q1_dist[node]) for node in q1_dist.keys()])\n",
    "                    record_distance.update(new_dict)          \n",
    "                    result_distance[i] = q1_dist[q2]            \n",
    "                    break\n",
    "\n",
    "    result_distance = pd.DataFrame(np.array(result_distance), index=data.index)\n",
    "    result_distance.columns = ['graph_distance']\n",
    "    \n",
    "    return result_distance\n",
    "\n",
    "\n",
    "def get_independent_groups(train, train_graph_distance, connected_components):\n",
    "    \n",
    "    # 找出不相似的问题对\n",
    "    data = train[train.label == 0]\n",
    "    \n",
    "    independent_groups = []\n",
    "       \n",
    "    for i in data.index:\n",
    "        q1 = data.loc[i,'q1']\n",
    "        q2 = data.loc[i,'q2']\n",
    "        \n",
    "        if train_graph_distance.loc[i, 'graph_distance'] == 1000:\n",
    "            # 查看它们是否有连通图\n",
    "            cc1 = set([])\n",
    "            cc2 = set([])\n",
    "            for cc in connected_components:\n",
    "                if q1 in cc:\n",
    "                    cc1 = cc\n",
    "                if q2 in cc:\n",
    "                    cc2 = cc\n",
    "            if len(cc1) > 0 and len(cc2) > 0 and (cc1,cc2) not in independent_groups and (cc2,cc1) not in independent_groups:\n",
    "                independent_groups.append((cc1,cc2))\n",
    "                \n",
    "    return independent_groups\n",
    "\n",
    "\n",
    "def get_graph_features(test, test_graph_distance, independent_groups):\n",
    "    \n",
    "    n = test.shape[0]\n",
    "    \n",
    "    # 初始化, 0 表示从训练集的graph无法确定是否相似， 1表示确定相似，-1表示确定不相似\n",
    "    graph_features = [0 for i in range(n)]\n",
    "    \n",
    "    for i in range(n):\n",
    "        q1 = test.loc[i,'q1']\n",
    "        q2 = test.loc[i,'q2']\n",
    "\n",
    "        if test_graph_distance.loc[i,'graph_distance'] < 1000:\n",
    "            graph_features[i] = 1\n",
    "        else:\n",
    "            # 看看q1和q2是否在independent group里面，如果在，则q1，q2确定不相似\n",
    "            for ig in independent_groups:\n",
    "                if (q1 in ig[0] and q2 in ig[1]) or (q1 in ig[1] and q2 in ig[0]):\n",
    "                    graph_features[i] = -1\n",
    "      \n",
    "    graph_features = pd.DataFrame(np.array(graph_features), index=test.index)\n",
    "    graph_features.columns = ['graph_features']\n",
    "    \n",
    "    return graph_features"
   ]
  },
  {
   "cell_type": "code",
   "execution_count": 13,
   "metadata": {
    "colab": {
     "base_uri": "https://localhost:8080/",
     "height": 33
    },
    "colab_type": "code",
    "executionInfo": {
     "elapsed": 299065,
     "status": "ok",
     "timestamp": 1556948983344,
     "user": {
      "displayName": "Racle He",
      "photoUrl": "https://lh5.googleusercontent.com/-duAtIP62aCM/AAAAAAAAAAI/AAAAAAAAABU/2UGgZTjRHOg/s64/photo.jpg",
      "userId": "10673173760458122172"
     },
     "user_tz": -480
    },
    "id": "g_idaktv1E1r",
    "outputId": "2669c2d9-d26a-48a7-fb04-2f9399358ec9"
   },
   "outputs": [
    {
     "name": "stdout",
     "output_type": "stream",
     "text": [
      "Compute train_graph_distance finished. Time used -67.8 mins\n"
     ]
    }
   ],
   "source": [
    "start = time.time()\n",
    "\n",
    "train_graph_distance = get_graph_distance(train, train_graph, connected_components, training_data=True)\n",
    "\n",
    "end = time.time()\n",
    "print('Compute train_graph_distance finished. Time used {:0.1f} mins'.format((end-start)/60))"
   ]
  },
  {
   "cell_type": "code",
   "execution_count": 14,
   "metadata": {
    "colab": {
     "base_uri": "https://localhost:8080/",
     "height": 33
    },
    "colab_type": "code",
    "executionInfo": {
     "elapsed": 819127,
     "status": "ok",
     "timestamp": 1556949515887,
     "user": {
      "displayName": "Racle He",
      "photoUrl": "https://lh5.googleusercontent.com/-duAtIP62aCM/AAAAAAAAAAI/AAAAAAAAABU/2UGgZTjRHOg/s64/photo.jpg",
      "userId": "10673173760458122172"
     },
     "user_tz": -480
    },
    "id": "QSeqlcjo4rzp",
    "outputId": "11a4e908-8276-4b6a-809d-cb1ad5060024"
   },
   "outputs": [
    {
     "name": "stdout",
     "output_type": "stream",
     "text": [
      "Compute independent_groups finished. Time used 8.9 mins\n"
     ]
    }
   ],
   "source": [
    "start = time.time()\n",
    "\n",
    "independent_groups = get_independent_groups(train, train_graph_distance, connected_components)\n",
    "\n",
    "end = time.time()\n",
    "print('Compute independent_groups finished. Time used {:0.1f} mins'.format((end-start)/60))"
   ]
  },
  {
   "cell_type": "code",
   "execution_count": 0,
   "metadata": {
    "colab": {},
    "colab_type": "code",
    "id": "F6uEenvtYDPe"
   },
   "outputs": [],
   "source": [
    "with open('./Cache/train_graph_distance.pickle', 'wb') as f:\n",
    "    pickle.dump(train_graph_distance, f)\n",
    "    \n",
    "with open('./Cache/independent_groups.pickle', 'wb') as f:\n",
    "    pickle.dump(independent_groups, f)"
   ]
  },
  {
   "cell_type": "code",
   "execution_count": 0,
   "metadata": {
    "colab": {},
    "colab_type": "code",
    "id": "l4nf0ytg478v"
   },
   "outputs": [],
   "source": [
    "# 通过训练集的ugraph，计算test的图特征\n",
    "# start = time.time()\n",
    "\n",
    "# test_graph_distance = get_graph_distance(test, train_graph, connected_components, training_data=False)\n",
    "# graph_features = get_graph_features(test, test_graph_distance, independent_groups)\n",
    "\n",
    "# end = time.time()\n",
    "# print('Generate graph_features finished. Time used {:0.1f} mins'.format((end-start)/60))\n",
    "# 由于实际中，直接获取到test data不现实，所以这种方式获得的特征，对实际应用用处不大。\n",
    "# 本项目计算过程中，不使用这样生成的图特征。\n",
    "# 只适用图的关系，来做数据扩增"
   ]
  },
  {
   "cell_type": "markdown",
   "metadata": {
    "colab_type": "text",
    "id": "yXZwHvyd70Gc"
   },
   "source": [
    "现在计算得到了：\n",
    "\n",
    "\n",
    "*   train_graph_distance，pd.DataFrame，['graph_distance']\n",
    "*   independent_groups，list，不相似的问题对的联通子图数据set\n",
    "\n"
   ]
  },
  {
   "cell_type": "code",
   "execution_count": 0,
   "metadata": {
    "colab": {},
    "colab_type": "code",
    "id": "aPld2Ys01FbC"
   },
   "outputs": [],
   "source": [
    "from itertools import combinations\n",
    "\n",
    "def all_pair_Dijkstra(train_graph, connected_component, max_distance):\n",
    "    '''\n",
    "    计算连通图中所有节点对的距离, 比Floyd算法快2.7倍左右, 此处应用未考虑图距离\n",
    "    \n",
    "    只考虑相似性的传递是等价的。\n",
    "    '''\n",
    "    m = len(connected_component)\n",
    "    cc = list(connected_component)\n",
    "    distance = {}\n",
    "    \n",
    "    # 初始化距离矩阵\n",
    "    matrix = [[0 for j in range(m)] for i in range(m)]\n",
    "    \n",
    "    for i in range(m):\n",
    "        dist = Dijkstra(train_graph, connected_component, cc[i])\n",
    "        for j,node in enumerate(cc):\n",
    "            matrix[i][j] = dist[node]\n",
    "            # 保存我们想要的距离\n",
    "            if matrix[i][j] > 1 and matrix[i][j] <= max_distance \\\n",
    "                          and (cc[i], cc[j]) not in distance.keys() \\\n",
    "                          and (cc[j], cc[i]) not in distance.keys():\n",
    "                distance[(cc[i], cc[j])] = matrix[i][j]\n",
    "                    \n",
    "    return distance, matrix, cc\n",
    "\n",
    "\n",
    "def gen_similar_data(train_graph, connected_components, max_cc_size):\n",
    "    '''\n",
    "    对每个连通图，求排列的相似集合，不用考虑图距离\n",
    "\n",
    "    如果连通图节点只有2个，直接break\n",
    "    '''    \n",
    "    similar_pairs = set()\n",
    "    \n",
    "    for cc in connected_components:\n",
    "        if len(cc) > 2 and len(cc) <= max_cc_size:\n",
    "            res = set(combinations(cc, 2))\n",
    "            similar_pairs.update(res)\n",
    "        else:\n",
    "            continue\n",
    "    \n",
    "    return similar_pairs\n",
    "\n",
    "\n",
    "def gen_dissimilar_data(independent_groups, max_group_size):\n",
    "    '''\n",
    "    如果q1, q2不相似，且存在连通图cc1包含q1，和cc2包含q2，则cc1和cc2的任意组合均不相似\n",
    "    max_group_size用来控制返回的问题对数量，设为46，对应100万左右的问题对\n",
    "    '''\n",
    "    dissimilar_pairs = set()  \n",
    "    for ig in independent_groups:\n",
    "        cc1 = ig[0]\n",
    "        cc2 = ig[1]\n",
    "        # 限制连通图大小，不然太多了\n",
    "        if len(cc1) < max_group_size and len(cc2) < max_group_size:\n",
    "            for q1 in cc1:\n",
    "                for q2 in cc2:\n",
    "                    dissimilar_pairs.add((q1, q2))\n",
    "    return dissimilar_pairs\n",
    " \n",
    "    \n",
    "    \n",
    "def data_augmentation(train, similar_data, dissimilar_data):\n",
    "    '''\n",
    "    与train数据去重，生成平衡数据集\n",
    "    similar_data: dict,{(q1,q2): d(q1,q2)}\n",
    "    dissimilar_data: set, {(q1,q2)}\n",
    "    '''\n",
    "   \n",
    "    #问题对转化为set格式\n",
    "    train_data1 = set([(train.loc[i,'q1'], train.loc[i,'q2']) for i in train.index])\n",
    "    train_data2 = set([(train.loc[i,'q2'], train.loc[i,'q1']) for i in train.index])\n",
    "    \n",
    "    # 查看（q1,q2）组合是否与train数据重复,如重复，则去掉\n",
    "    similar_pairs = similar_data - train_data1\n",
    "    similar_pairs = list(similar_pairs - train_data2)[:1000000]\n",
    "    dissimilar_pairs = dissimilar_data - train_data1\n",
    "    dissimilar_pairs = list(dissimilar_pairs - train_data2)[:1000000]\n",
    "    \n",
    "    \n",
    "    # 生成新的训练数据并导出\n",
    "    new_data = []\n",
    "    new_data.extend(similar_pairs)\n",
    "    new_data.extend(dissimilar_pairs)\n",
    "    \n",
    "    new_data = pd.DataFrame(np.array(new_data))\n",
    "    new_data.columns = ['q1','q2']\n",
    "    new_data['label'] = 0\n",
    "    new_data.loc[0:len(similar_pairs)-1, 'label'] = 1\n",
    "    \n",
    "    return new_data"
   ]
  },
  {
   "cell_type": "code",
   "execution_count": 17,
   "metadata": {
    "colab": {
     "base_uri": "https://localhost:8080/",
     "height": 33
    },
    "colab_type": "code",
    "executionInfo": {
     "elapsed": 974,
     "status": "ok",
     "timestamp": 1556950712888,
     "user": {
      "displayName": "Racle He",
      "photoUrl": "https://lh5.googleusercontent.com/-duAtIP62aCM/AAAAAAAAAAI/AAAAAAAAABU/2UGgZTjRHOg/s64/photo.jpg",
      "userId": "10673173760458122172"
     },
     "user_tz": -480
    },
    "id": "mkEnAtsm-EqE",
    "outputId": "78c7e831-d3df-4ee8-f1b9-74d1e2b1b3df"
   },
   "outputs": [
    {
     "name": "stdout",
     "output_type": "stream",
     "text": [
      "1328\n"
     ]
    }
   ],
   "source": [
    "max = max([len(i) for i in connected_components])\n",
    "print(max)"
   ]
  },
  {
   "cell_type": "code",
   "execution_count": 0,
   "metadata": {
    "colab": {},
    "colab_type": "code",
    "id": "opmE14lLgnXO"
   },
   "outputs": [],
   "source": [
    "cc_len = pd.DataFrame(np.array([len(i) for i in connected_components]), columns=['len'])"
   ]
  },
  {
   "cell_type": "code",
   "execution_count": 57,
   "metadata": {
    "colab": {
     "base_uri": "https://localhost:8080/",
     "height": 1267
    },
    "colab_type": "code",
    "executionInfo": {
     "elapsed": 3292,
     "status": "ok",
     "timestamp": 1556954100036,
     "user": {
      "displayName": "Racle He",
      "photoUrl": "https://lh5.googleusercontent.com/-duAtIP62aCM/AAAAAAAAAAI/AAAAAAAAABU/2UGgZTjRHOg/s64/photo.jpg",
      "userId": "10673173760458122172"
     },
     "user_tz": -480
    },
    "id": "XoRFdZT4jQ4Z",
    "outputId": "b81ce5e0-444c-411f-cfc7-7ab24f83020d"
   },
   "outputs": [
    {
     "data": {
      "text/plain": [
       "(array([ 0,  1,  2,  3,  4,  5,  6,  7,  8,  9, 10, 11, 12, 13, 14, 15, 16,\n",
       "        17, 18, 19, 20, 21, 22, 23, 24, 25, 26, 27, 28, 29, 30, 31, 32, 33,\n",
       "        34, 35, 36, 37, 38, 39, 40, 41, 42, 43, 44, 45, 46, 47, 48, 49, 50,\n",
       "        51, 52, 53, 54, 55, 56, 57, 58, 59, 60, 61, 62, 63, 64, 65, 66, 67,\n",
       "        68, 69, 70, 71, 72, 73, 74, 75, 76, 77, 78, 79, 80, 81, 82, 83, 84,\n",
       "        85, 86, 87, 88, 89, 90, 91]), <a list of 92 Text xticklabel objects>)"
      ]
     },
     "execution_count": 57,
     "metadata": {
      "tags": []
     },
     "output_type": "execute_result"
    },
    {
     "data": {
      "image/png": "[encoded data removed]",
      "text/plain": [
       "<Figure size 1296x1440 with 2 Axes>"
      ]
     },
     "metadata": {
      "tags": []
     },
     "output_type": "display_data"
    }
   ],
   "source": [
    "import seaborn as sns\n",
    "import matplotlib.pyplot as plt\n",
    "import matplotlib.ticker as ticker\n",
    "\n",
    "\n",
    "# ax = sns.countplot(x=\"len\", data=cc_len)\n",
    "# ax.tick_params(axis='x',labelsize=8)\n",
    "# ax.xaxis.set_major_locator(ticker.MultipleLocator())\n",
    "# plt.hist(x=cc_len[\"len\"], bins=10)\n",
    "# cc_len.plot(kind='hist', alpha=0.7)\n",
    "\n",
    "# ax = sns.distplot(cc_len[\"len\"], bins=1000, kde=False, rug=True)\n",
    "# ax.set_ylim(0, 6000)\n",
    "\n",
    "plt.figure(figsize=(18, 20))\n",
    "plt.subplot(2, 1, 1)\n",
    "sns.countplot(cc_len[\"len\"])\n",
    "plt.xticks(rotation=90)\n",
    "\n",
    "plt.subplot(2, 1, 2)\n",
    "sns.countplot(cc_len[\"len\"])\n",
    "plt.ylim(0, 10)\n",
    "plt.xticks(rotation=90)"
   ]
  },
  {
   "cell_type": "markdown",
   "metadata": {
    "colab_type": "text",
    "id": "3Z5Lj1oUBFq6"
   },
   "source": [
    "数据扩增原则：\n",
    "\n",
    "（1）如果q1，q2相似，且q1,  q2在同一个连通图，则连通图的问题都相似 \n",
    "   \n",
    "   —— 利用connected components得到\n",
    "  \n",
    "  —— 组合后一共3796821个问题对\n",
    "  \n",
    "\n",
    "   \n",
    "（2）如果q1, q2不相似，且存在连通图cc1包含q1，和cc2包含q2，则cc1和cc2的任意组合均不相似\n",
    "  \n",
    "  —— 利用independent groups得到\n",
    "  \n",
    "  —— 注意一共有119475717个,太多了!!!  限制集合大小小于50，仍有1577269个问题对。选100万个。\n",
    " \n",
    " 取跟相似问题一样多的量，构建平衡数据集。我们把数据增强的结果保存为一个单独的文件,包含3列 label, q1, q2\n"
   ]
  },
  {
   "cell_type": "code",
   "execution_count": 66,
   "metadata": {
    "colab": {
     "base_uri": "https://localhost:8080/",
     "height": 33
    },
    "colab_type": "code",
    "executionInfo": {
     "elapsed": 2542,
     "status": "ok",
     "timestamp": 1556963829296,
     "user": {
      "displayName": "Racle He",
      "photoUrl": "https://lh5.googleusercontent.com/-duAtIP62aCM/AAAAAAAAAAI/AAAAAAAAABU/2UGgZTjRHOg/s64/photo.jpg",
      "userId": "10673173760458122172"
     },
     "user_tz": -480
    },
    "id": "f-cg3Obg16TJ",
    "outputId": "5c1bd395-4eda-47ec-8a86-cf77f39ac2b3"
   },
   "outputs": [
    {
     "name": "stdout",
     "output_type": "stream",
     "text": [
      "Generate similar_data finished. Time used 0.0 mins\n"
     ]
    }
   ],
   "source": [
    "start = time.time()\n",
    "similar_data = gen_similar_data(train_graph, connected_components, 1350)\n",
    "end = time.time()\n",
    "print('Generate similar_data finished. Time used {:0.1f} mins'.format((end-start)/60))"
   ]
  },
  {
   "cell_type": "code",
   "execution_count": 68,
   "metadata": {
    "colab": {
     "base_uri": "https://localhost:8080/",
     "height": 33
    },
    "colab_type": "code",
    "executionInfo": {
     "elapsed": 1177,
     "status": "ok",
     "timestamp": 1556963857496,
     "user": {
      "displayName": "Racle He",
      "photoUrl": "https://lh5.googleusercontent.com/-duAtIP62aCM/AAAAAAAAAAI/AAAAAAAAABU/2UGgZTjRHOg/s64/photo.jpg",
      "userId": "10673173760458122172"
     },
     "user_tz": -480
    },
    "id": "hQt_mltkRrw7",
    "outputId": "dd0e3ef9-ddaf-4224-8d86-d9472b869357"
   },
   "outputs": [
    {
     "data": {
      "text/plain": [
       "3796821"
      ]
     },
     "execution_count": 68,
     "metadata": {
      "tags": []
     },
     "output_type": "execute_result"
    }
   ],
   "source": [
    "len(similar_data)"
   ]
  },
  {
   "cell_type": "code",
   "execution_count": 64,
   "metadata": {
    "colab": {
     "base_uri": "https://localhost:8080/",
     "height": 33
    },
    "colab_type": "code",
    "executionInfo": {
     "elapsed": 1378,
     "status": "ok",
     "timestamp": 1556963792442,
     "user": {
      "displayName": "Racle He",
      "photoUrl": "https://lh5.googleusercontent.com/-duAtIP62aCM/AAAAAAAAAAI/AAAAAAAAABU/2UGgZTjRHOg/s64/photo.jpg",
      "userId": "10673173760458122172"
     },
     "user_tz": -480
    },
    "id": "pFj5luK_s9Sm",
    "outputId": "413b9739-484a-4339-db15-c3de4d85c70b"
   },
   "outputs": [
    {
     "name": "stdout",
     "output_type": "stream",
     "text": [
      "Generate dissimilar_data finished. Time used 0.0 mins\n"
     ]
    }
   ],
   "source": [
    "start = time.time()\n",
    "dissimilar_data = gen_dissimilar_data(independent_groups, 50)\n",
    "end = time.time()\n",
    "print('Generate dissimilar_data finished. Time used {:0.1f} mins'.format((end-start)/60))"
   ]
  },
  {
   "cell_type": "code",
   "execution_count": 69,
   "metadata": {
    "colab": {
     "base_uri": "https://localhost:8080/",
     "height": 33
    },
    "colab_type": "code",
    "executionInfo": {
     "elapsed": 993,
     "status": "ok",
     "timestamp": 1556963874470,
     "user": {
      "displayName": "Racle He",
      "photoUrl": "https://lh5.googleusercontent.com/-duAtIP62aCM/AAAAAAAAAAI/AAAAAAAAABU/2UGgZTjRHOg/s64/photo.jpg",
      "userId": "10673173760458122172"
     },
     "user_tz": -480
    },
    "id": "mMEA9YaKRi0e",
    "outputId": "794a3a4d-aa5d-443e-bc95-a4a269d6c969"
   },
   "outputs": [
    {
     "data": {
      "text/plain": [
       "1577269"
      ]
     },
     "execution_count": 69,
     "metadata": {
      "tags": []
     },
     "output_type": "execute_result"
    }
   ],
   "source": [
    "len(dissimilar_data)"
   ]
  },
  {
   "cell_type": "code",
   "execution_count": 74,
   "metadata": {
    "colab": {
     "base_uri": "https://localhost:8080/",
     "height": 33
    },
    "colab_type": "code",
    "executionInfo": {
     "elapsed": 20107,
     "status": "ok",
     "timestamp": 1556964132369,
     "user": {
      "displayName": "Racle He",
      "photoUrl": "https://lh5.googleusercontent.com/-duAtIP62aCM/AAAAAAAAAAI/AAAAAAAAABU/2UGgZTjRHOg/s64/photo.jpg",
      "userId": "10673173760458122172"
     },
     "user_tz": -480
    },
    "id": "YgL3wXBfs-1a",
    "outputId": "a4118d35-4fe0-48fa-9141-c1727561b7e5"
   },
   "outputs": [
    {
     "name": "stdout",
     "output_type": "stream",
     "text": [
      "Generate new data finished. Time used 0.2 mins\n"
     ]
    }
   ],
   "source": [
    "start = time.time()\n",
    "new_data = data_augmentation(train, similar_data, dissimilar_data)\n",
    "end = time.time()\n",
    "print('Generate new data finished. Time used {:0.1f} mins'.format((end-start)/60))"
   ]
  },
  {
   "cell_type": "code",
   "execution_count": 76,
   "metadata": {
    "colab": {
     "base_uri": "https://localhost:8080/",
     "height": 197
    },
    "colab_type": "code",
    "executionInfo": {
     "elapsed": 2104,
     "status": "ok",
     "timestamp": 1556964384164,
     "user": {
      "displayName": "Racle He",
      "photoUrl": "https://lh5.googleusercontent.com/-duAtIP62aCM/AAAAAAAAAAI/AAAAAAAAABU/2UGgZTjRHOg/s64/photo.jpg",
      "userId": "10673173760458122172"
     },
     "user_tz": -480
    },
    "id": "cXe87AGETjto",
    "outputId": "d263b2c1-4fa9-4438-8976-23da6354c98f"
   },
   "outputs": [
    {
     "data": {
      "text/html": [
       "<div>\n",
       "<style scoped>\n",
       "    .dataframe tbody tr th:only-of-type {\n",
       "        vertical-align: middle;\n",
       "    }\n",
       "\n",
       "    .dataframe tbody tr th {\n",
       "        vertical-align: top;\n",
       "    }\n",
       "\n",
       "    .dataframe thead th {\n",
       "        text-align: right;\n",
       "    }\n",
       "</style>\n",
       "<table border=\"1\" class=\"dataframe\">\n",
       "  <thead>\n",
       "    <tr style=\"text-align: right;\">\n",
       "      <th></th>\n",
       "      <th>q1</th>\n",
       "      <th>q2</th>\n",
       "      <th>label</th>\n",
       "    </tr>\n",
       "  </thead>\n",
       "  <tbody>\n",
       "    <tr>\n",
       "      <th>0</th>\n",
       "      <td>Q654233</td>\n",
       "      <td>Q693228</td>\n",
       "      <td>1</td>\n",
       "    </tr>\n",
       "    <tr>\n",
       "      <th>1</th>\n",
       "      <td>Q709896</td>\n",
       "      <td>Q252211</td>\n",
       "      <td>1</td>\n",
       "    </tr>\n",
       "    <tr>\n",
       "      <th>2</th>\n",
       "      <td>Q629986</td>\n",
       "      <td>Q165861</td>\n",
       "      <td>1</td>\n",
       "    </tr>\n",
       "    <tr>\n",
       "      <th>3</th>\n",
       "      <td>Q551926</td>\n",
       "      <td>Q275982</td>\n",
       "      <td>1</td>\n",
       "    </tr>\n",
       "    <tr>\n",
       "      <th>4</th>\n",
       "      <td>Q625875</td>\n",
       "      <td>Q024141</td>\n",
       "      <td>1</td>\n",
       "    </tr>\n",
       "  </tbody>\n",
       "</table>\n",
       "</div>"
      ],
      "text/plain": [
       "        q1       q2  label\n",
       "0  Q654233  Q693228      1\n",
       "1  Q709896  Q252211      1\n",
       "2  Q629986  Q165861      1\n",
       "3  Q551926  Q275982      1\n",
       "4  Q625875  Q024141      1"
      ]
     },
     "execution_count": 76,
     "metadata": {
      "tags": []
     },
     "output_type": "execute_result"
    }
   ],
   "source": [
    "new_data.head()"
   ]
  },
  {
   "cell_type": "code",
   "execution_count": 77,
   "metadata": {
    "colab": {
     "base_uri": "https://localhost:8080/",
     "height": 197
    },
    "colab_type": "code",
    "executionInfo": {
     "elapsed": 2853,
     "status": "ok",
     "timestamp": 1556964541940,
     "user": {
      "displayName": "Racle He",
      "photoUrl": "https://lh5.googleusercontent.com/-duAtIP62aCM/AAAAAAAAAAI/AAAAAAAAABU/2UGgZTjRHOg/s64/photo.jpg",
      "userId": "10673173760458122172"
     },
     "user_tz": -480
    },
    "id": "Hgk9haqWUPOj",
    "outputId": "ffdbf5f6-1f44-4e2d-ad2f-1c15e85d60d0"
   },
   "outputs": [
    {
     "data": {
      "text/html": [
       "<div>\n",
       "<style scoped>\n",
       "    .dataframe tbody tr th:only-of-type {\n",
       "        vertical-align: middle;\n",
       "    }\n",
       "\n",
       "    .dataframe tbody tr th {\n",
       "        vertical-align: top;\n",
       "    }\n",
       "\n",
       "    .dataframe thead th {\n",
       "        text-align: right;\n",
       "    }\n",
       "</style>\n",
       "<table border=\"1\" class=\"dataframe\">\n",
       "  <thead>\n",
       "    <tr style=\"text-align: right;\">\n",
       "      <th></th>\n",
       "      <th>label</th>\n",
       "      <th>q1</th>\n",
       "      <th>q2</th>\n",
       "    </tr>\n",
       "  </thead>\n",
       "  <tbody>\n",
       "    <tr>\n",
       "      <th>0</th>\n",
       "      <td>1</td>\n",
       "      <td>Q654233</td>\n",
       "      <td>Q693228</td>\n",
       "    </tr>\n",
       "    <tr>\n",
       "      <th>1</th>\n",
       "      <td>1</td>\n",
       "      <td>Q709896</td>\n",
       "      <td>Q252211</td>\n",
       "    </tr>\n",
       "    <tr>\n",
       "      <th>2</th>\n",
       "      <td>1</td>\n",
       "      <td>Q629986</td>\n",
       "      <td>Q165861</td>\n",
       "    </tr>\n",
       "    <tr>\n",
       "      <th>3</th>\n",
       "      <td>1</td>\n",
       "      <td>Q551926</td>\n",
       "      <td>Q275982</td>\n",
       "    </tr>\n",
       "    <tr>\n",
       "      <th>4</th>\n",
       "      <td>1</td>\n",
       "      <td>Q625875</td>\n",
       "      <td>Q024141</td>\n",
       "    </tr>\n",
       "  </tbody>\n",
       "</table>\n",
       "</div>"
      ],
      "text/plain": [
       "   label       q1       q2\n",
       "0      1  Q654233  Q693228\n",
       "1      1  Q709896  Q252211\n",
       "2      1  Q629986  Q165861\n",
       "3      1  Q551926  Q275982\n",
       "4      1  Q625875  Q024141"
      ]
     },
     "execution_count": 77,
     "metadata": {
      "tags": []
     },
     "output_type": "execute_result"
    }
   ],
   "source": [
    "new_data = new_data[['label', 'q1', 'q2']]\n",
    "new_data.head()"
   ]
  },
  {
   "cell_type": "code",
   "execution_count": 79,
   "metadata": {
    "colab": {
     "base_uri": "https://localhost:8080/",
     "height": 33
    },
    "colab_type": "code",
    "executionInfo": {
     "elapsed": 6196,
     "status": "ok",
     "timestamp": 1556964621635,
     "user": {
      "displayName": "Racle He",
      "photoUrl": "https://lh5.googleusercontent.com/-duAtIP62aCM/AAAAAAAAAAI/AAAAAAAAABU/2UGgZTjRHOg/s64/photo.jpg",
      "userId": "10673173760458122172"
     },
     "user_tz": -480
    },
    "id": "OCg93Gcjs_Vh",
    "outputId": "77db9657-3933-4465-c53f-42da7b7233a1"
   },
   "outputs": [
    {
     "name": "stdout",
     "output_type": "stream",
     "text": [
      "Have saved data to 'augmentation_results.csv'\n"
     ]
    }
   ],
   "source": [
    "new_data.to_csv('./augmentation_results.csv')\n",
    "print('Have saved data to \\'augmentation_results.csv\\'')"
   ]
  }
 ],
 "metadata": {
  "accelerator": "GPU",
  "colab": {
   "collapsed_sections": [],
   "name": "graph_feature_generate.ipynb",
   "provenance": [],
   "version": "0.3.2"
  },
  "kernelspec": {
   "display_name": "Python 2",
   "language": "python",
   "name": "python2"
  },
  "language_info": {
   "codemirror_mode": {
    "name": "ipython",
    "version": 2
   },
   "file_extension": ".py",
   "mimetype": "text/x-python",
   "name": "python",
   "nbconvert_exporter": "python",
   "pygments_lexer": "ipython2",
   "version": "2.7.15"
  },
  "toc": {
   "base_numbering": 1,
   "nav_menu": {},
   "number_sections": true,
   "sideBar": true,
   "skip_h1_title": false,
   "title_cell": "Table of Contents",
   "title_sidebar": "Contents",
   "toc_cell": false,
   "toc_position": {},
   "toc_section_display": true,
   "toc_window_display": false
  },
  "varInspector": {
   "cols": {
    "lenName": 16,
    "lenType": 16,
    "lenVar": 40
   },
   "kernels_config": {
    "python": {
     "delete_cmd_postfix": "",
     "delete_cmd_prefix": "del ",
     "library": "var_list.py",
     "varRefreshCmd": "print(var_dic_list())"
    },
    "r": {
     "delete_cmd_postfix": ") ",
     "delete_cmd_prefix": "rm(",
     "library": "var_list.r",
     "varRefreshCmd": "cat(var_dic_list()) "
    }
   },
   "types_to_exclude": [
    "module",
    "function",
    "builtin_function_or_method",
    "instance",
    "_Feature"
   ],
   "window_display": false
  }
 },
 "nbformat": 4,
 "nbformat_minor": 1
}
